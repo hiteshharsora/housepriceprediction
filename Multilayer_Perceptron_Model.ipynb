{
 "cells": [
  {
   "cell_type": "code",
   "execution_count": null,
   "metadata": {},
   "outputs": [],
   "source": [
    "import pandas as pd\n",
    "import numpy as np\n",
    "import seaborn as sb\n",
    "from sklearn.neural_network import MLPRegressor\n",
    "from sklearn import metrics\n",
    "import matplotlib.pyplot as plt\n",
    "from scipy.stats import skew\n",
    "from sklearn.model_selection import train_test_split,cross_val_score,GridSearchCV\n",
    "from sklearn.metrics import confusion_matrix, classification_report, mean_squared_error, accuracy_score, r2_score, f1_score,\\\n",
    "roc_auc_score,mean_absolute_error,mean_absolute_percentage_error,max_error\n"
   ]
  },
  {
   "cell_type": "code",
   "execution_count": null,
   "metadata": {},
   "outputs": [],
   "source": [
    "data_fin_imprt=pd.read_csv(\"final.csv\",  delimiter=',')\n"
   ]
  },
  {
   "cell_type": "code",
   "execution_count": null,
   "metadata": {},
   "outputs": [],
   "source": [
    "data_fin_imprt.head(15)"
   ]
  },
  {
   "cell_type": "code",
   "execution_count": null,
   "metadata": {},
   "outputs": [],
   "source": [
    "\n",
    "x=data_fin_imprt.drop('SalePrice',axis=1)\n",
    "y=data_fin_imprt['SalePrice']\n",
    "x_train, x_test, y_train, y_test = train_test_split(x, y, test_size=0.2, random_state=42)\n"
   ]
  },
  {
   "cell_type": "code",
   "execution_count": null,
   "metadata": {},
   "outputs": [],
   "source": [
    "mlp_model = MLPRegressor(random_state=1, max_iter=500)\n",
    "mlp_model.fit(x_train, y_train)# fitting the model\n",
    "mlp_model_predict = mlp_model.predict(x_test)# predicting the values"
   ]
  },
  {
   "cell_type": "code",
   "execution_count": null,
   "metadata": {},
   "outputs": [],
   "source": [
    "Lin_lasso_mod_sc=mlp_model.score(x_train,y_train)#best '1'\n",
    "print('Multilayer Perceptron Regression Model Score  : ',round(Lin_lasso_mod_sc,3))\n",
    "r2=r2_score(y_test,mlp_model_predict)# computing and displaying the R.Sq of the model, best 'above0.9'\n",
    "print('R Sq. Value : ',round(r2,2))\n",
    "rfr_adj_r2 = 1 - (1-r2) * (len(y)-1)/(len(y)-x.shape[1]-1)#0.8+\n",
    "print('Adjusted R Sq. Value is : ', round(rfr_adj_r2,3))\n",
    "mean_sq=mean_squared_error(y_test,mlp_model_predict)# computing and displaying the Mean square error of the model, best 0\n",
    "print('Mean Square Error is : ', round(mean_sq,3))\n",
    "lin_rmse=mean_squared_error(y_test,mlp_model_predict,squared = False)#best 0\n",
    "print('Root Mean Square Error is : ', round(lin_rmse,3))\n",
    "lin_mae=mean_absolute_error(y_test, mlp_model_predict)#best 0\n",
    "print('Mean Absoulue Error is : ', round(lin_mae,3))\n",
    "scores_cvs = cross_val_score(mlp_model, x, y,scoring='r2' ,cv=5) #best 100\n",
    "print(\"Accuracy :\",round(scores_cvs.mean()*100,2),\"%\") # Accuracy of moadel based on parameter supplied by GridsearchCV"
   ]
  },
  {
   "cell_type": "code",
   "execution_count": null,
   "metadata": {},
   "outputs": [],
   "source": [
    "\n",
    "\n",
    "Actual_Price=np.expm1(y_test)\n",
    "Predicted_Price=np.expm1(mlp_model_predict)\n",
    "plt.scatter(Actual_Price, Predicted_Price, c='crimson')\n",
    "p1 = max(max(Predicted_Price), max(Actual_Price))\n",
    "p2 = min(min(Predicted_Price), min(Actual_Price))\n",
    "plt.plot([p1, p2], [p1, p2], 'b-')\n",
    "plt.xlabel('Actual Values', fontsize=15)\n",
    "plt.ylabel('Predicted Values', fontsize=15)\n",
    "plt.axis('equal')\n",
    "plt.show()"
   ]
  },
  {
   "cell_type": "code",
   "execution_count": null,
   "metadata": {},
   "outputs": [],
   "source": [
    "sb.distplot((y_test-mlp_model_predict),bins=100); "
   ]
  },
  {
   "cell_type": "code",
   "execution_count": null,
   "metadata": {},
   "outputs": [],
   "source": [
    "param_list = {\"hidden_layer_sizes\": [(1,),(50,)], \"activation\": [\"identity\", \"logistic\", \"tanh\", \"relu\"], \"solver\":\\\n",
    "     [\"lbfgs\", \"sgd\", \"adam\"], \"alpha\": [0.00005,0.0005]}"
   ]
  },
  {
   "cell_type": "code",
   "execution_count": null,
   "metadata": {},
   "outputs": [],
   "source": [
    "G_CV_lin_rid = GridSearchCV(estimator=mlp_model, param_grid=param_list, cv= 5) #  using grid search method to optimise model with hyperparameter tuning\n",
    "\n",
    "G_CV_lin_rid.fit(x_train, y_train)# fitting the model\n",
    "G_CV_lin_rid.best_params_ # displaying optimised parameters for optimal tuning of model"
   ]
  },
  {
   "attachments": {},
   "cell_type": "markdown",
   "metadata": {},
   "source": [
    "{'activation': 'tanh',\n",
    " 'alpha': 5e-05,\n",
    " 'hidden_layer_sizes': (50,),\n",
    " 'solver': 'lbfgs'}"
   ]
  },
  {
   "cell_type": "code",
   "execution_count": null,
   "metadata": {},
   "outputs": [],
   "source": [
    "mlp_model = MLPRegressor(random_state=1, max_iter=500 ,activation='tanh', hidden_layer_sizes=50, solver='lbfgs',alpha=5e-05)\n",
    "mlp_model.fit(x_train, y_train)# fitting the model\n",
    "mlp_model_predict = mlp_model.predict(x_test)# predicting the values"
   ]
  },
  {
   "cell_type": "code",
   "execution_count": null,
   "metadata": {},
   "outputs": [],
   "source": [
    "mlp_mod_sc=mlp_model.score(x_train,y_train)#best '1'\n",
    "print('Multilayer Perceptron Regression Model Score  : ',round(mlp_mod_sc,3))\n",
    "r2=r2_score(y_test,mlp_model_predict)# computing and displaying the R.Sq of the model, best 'above0.9'\n",
    "print('R Sq. Value : ',round(r2,2))\n",
    "rfr_adj_r2 = 1 - (1-r2) * (len(y)-1)/(len(y)-x.shape[1]-1)#0.8+\n",
    "print('Adjusted R Sq. Value is : ', round(rfr_adj_r2,3))\n",
    "mean_sq=mean_squared_error(y_test,mlp_model_predict)# computing and displaying the Mean square error of the model, best 0\n",
    "print('Mean Square Error is : ', round(mean_sq,3))\n",
    "lin_rmse=mean_squared_error(y_test,mlp_model_predict,squared = False)#best 0\n",
    "print('Root Mean Square Error is : ', round(lin_rmse,3))\n",
    "lin_mae=mean_absolute_error(y_test, mlp_model_predict)#best 0\n",
    "print('Mean Absoulue Error is : ', round(lin_mae,3))\n",
    "scores_cvs = cross_val_score(mlp_model, x, y,scoring='r2' ,cv=5) #best 100\n",
    "print(\"Accuracy :\",round(scores_cvs.mean()*100,2),\"%\") # Accuracy of moadel based on parameter supplied by GridsearchCV"
   ]
  },
  {
   "cell_type": "code",
   "execution_count": null,
   "metadata": {},
   "outputs": [],
   "source": [
    "\n",
    "\n",
    "Actual_Price=np.expm1(y_test)\n",
    "Predicted_Price=np.expm1(mlp_model_predict)\n",
    "plt.scatter(Actual_Price, Predicted_Price, c='crimson')\n",
    "p1 = max(max(Predicted_Price), max(Actual_Price))\n",
    "p2 = min(min(Predicted_Price), min(Actual_Price))\n",
    "plt.plot([p1, p2], [p1, p2], 'b-')\n",
    "plt.xlabel('Actual Values', fontsize=15)\n",
    "plt.ylabel('Predicted Values', fontsize=15)\n",
    "plt.axis('equal')\n",
    "plt.show()"
   ]
  },
  {
   "cell_type": "code",
   "execution_count": null,
   "metadata": {},
   "outputs": [],
   "source": [
    "sb.distplot((y_test-mlp_model_predict),bins=100); "
   ]
  }
 ],
 "metadata": {
  "kernelspec": {
   "display_name": "piechai",
   "language": "python",
   "name": "python3"
  },
  "language_info": {
   "codemirror_mode": {
    "name": "ipython",
    "version": 3
   },
   "file_extension": ".py",
   "mimetype": "text/x-python",
   "name": "python",
   "nbconvert_exporter": "python",
   "pygments_lexer": "ipython3",
   "version": "3.9.15"
  },
  "orig_nbformat": 4,
  "vscode": {
   "interpreter": {
    "hash": "6181163ef07731c4c700ceb3a2e36cfe8aa7d700f81497e3c6963703000fc254"
   }
  }
 },
 "nbformat": 4,
 "nbformat_minor": 2
}
